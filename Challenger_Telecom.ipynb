{
  "nbformat": 4,
  "nbformat_minor": 0,
  "metadata": {
    "colab": {
      "provenance": [],
      "authorship_tag": "ABX9TyP+fHagJE4P7Q1z73PwkF7P",
      "include_colab_link": true
    },
    "kernelspec": {
      "name": "python3",
      "display_name": "Python 3"
    },
    "language_info": {
      "name": "python"
    }
  },
  "cells": [
    {
      "cell_type": "markdown",
      "metadata": {
        "id": "view-in-github",
        "colab_type": "text"
      },
      "source": [
        "<a href=\"https://colab.research.google.com/github/paulosky311/Challenge-Alura-Store/blob/main/Challenger_Telecom.ipynb\" target=\"_parent\"><img src=\"https://colab.research.google.com/assets/colab-badge.svg\" alt=\"Open In Colab\"/></a>"
      ]
    },
    {
      "cell_type": "markdown",
      "source": [
        "# **Challenger_Telecom_Latam**"
      ],
      "metadata": {
        "id": "UtrG7eX7bcox"
      }
    },
    {
      "cell_type": "markdown",
      "source": [
        "# 📌 Extracción"
      ],
      "metadata": {
        "id": "JF7LVT0xcWBr"
      }
    },
    {
      "cell_type": "code",
      "source": [],
      "metadata": {
        "id": "GEM6PUGycUeZ"
      },
      "execution_count": null,
      "outputs": []
    }
  ]
}